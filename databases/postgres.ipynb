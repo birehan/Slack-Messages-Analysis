{
 "cells": [
  {
   "cell_type": "code",
   "execution_count": 259,
   "metadata": {},
   "outputs": [],
   "source": [
    "import psycopg2\n",
    "from psycopg2 import sql\n",
    "from sqlalchemy import create_engine\n",
    "import os, sys\n",
    "import json\n",
    "import pandas as pd\n",
    "\n"
   ]
  },
  {
   "cell_type": "code",
   "execution_count": 260,
   "metadata": {},
   "outputs": [],
   "source": [
    "from src.helper import Helper\n",
    "helper = Helper()"
   ]
  },
  {
   "cell_type": "code",
   "execution_count": 261,
   "metadata": {},
   "outputs": [],
   "source": [
    "# Connection parameters\n",
    "connection_params = {\n",
    "    \"host\": \"localhost\",\n",
    "    \"user\": \"birehan\",\n",
    "    \"password\": \"password\",\n",
    "    \"port\": \"5432\",\n",
    "    \"database\": \"slackdbs\"  # Change to your desired database name\n",
    "}\n",
    "\n",
    "# Create a connection to PostgreSQL\n",
    "conn = psycopg2.connect(**connection_params)\n",
    "conn.autocommit = True  # Enable autocommit to execute DDL statements\n",
    "\n",
    "# Create tables for Slack messages, replies, reactions, users, and channels\n",
    "with conn.cursor() as cursor:\n",
    "    # Users table\n",
    "    cursor.execute(\"\"\"\n",
    "    CREATE TABLE IF NOT EXISTS Users (\n",
    "        user_id VARCHAR(255) PRIMARY KEY,\n",
    "        real_name VARCHAR(255) NOT NULL\n",
    "    )\n",
    "    \"\"\")\n",
    "\n",
    "    # Channels table\n",
    "    cursor.execute(\"\"\"\n",
    "    CREATE TABLE IF NOT EXISTS Channels (\n",
    "        channel_id VARCHAR(255) PRIMARY KEY,\n",
    "        name VARCHAR(255) NOT NULL\n",
    "    )\n",
    "    \"\"\")\n",
    "\n",
    "    # Messages table\n",
    "    cursor.execute(\"\"\"\n",
    "    CREATE TABLE IF NOT EXISTS Messages (\n",
    "        ts VARCHAR(255) PRIMARY KEY,\n",
    "        msg_id VARCHAR(255) NOT NULL,\n",
    "        text TEXT NOT NULL,\n",
    "        cleaned_text TEXT,\n",
    "        user_id VARCHAR(255) REFERENCES Users(user_id),\n",
    "        channel_id VARCHAR(255) REFERENCES Channels(channel_id),\n",
    "        mentions VARCHAR(255)[],\n",
    "        reactions INT[],\n",
    "        replies INT[]\n",
    "    )\n",
    "    \"\"\")\n",
    "\n",
    "    # Reactions table\n",
    "    cursor.execute(\"\"\"\n",
    "    CREATE TABLE IF NOT EXISTS Reactions (\n",
    "        reaction_id SERIAL PRIMARY KEY,\n",
    "        message_ts VARCHAR(255) REFERENCES Messages(ts),\n",
    "        name VARCHAR(255) NOT NULL,\n",
    "        count INT NOT NULL\n",
    "    )\n",
    "    \"\"\")\n",
    "\n",
    "    # Replies table\n",
    "    cursor.execute(\"\"\"\n",
    "    CREATE TABLE IF NOT EXISTS Replies (\n",
    "        reply_id SERIAL PRIMARY KEY,\n",
    "        message_ts VARCHAR(255) REFERENCES Messages(ts),\n",
    "        user_id VARCHAR(255) REFERENCES Users(user_id),\n",
    "        ts VARCHAR(255) NOT NULL\n",
    "    )\n",
    "    \"\"\")\n",
    "\n",
    "    # Bridge table for Messages and Reactions (many-to-many)\n",
    "    cursor.execute(\"\"\"\n",
    "    CREATE TABLE IF NOT EXISTS MessageReactions (\n",
    "        message_ts VARCHAR(255) REFERENCES Messages(ts),\n",
    "        reaction_id INT REFERENCES Reactions(reaction_id),\n",
    "        PRIMARY KEY (message_ts, reaction_id)\n",
    "    )\n",
    "    \"\"\")\n",
    "\n",
    "    # Bridge table for Messages and Replies (many-to-many)\n",
    "    cursor.execute(\"\"\"\n",
    "    CREATE TABLE IF NOT EXISTS MessageReplies (\n",
    "        message_ts VARCHAR(255) REFERENCES Messages(ts),\n",
    "        reply_id INT REFERENCES Replies(reply_id),\n",
    "        PRIMARY KEY (message_ts, reply_id)\n",
    "    )\n",
    "    \"\"\")\n",
    "\n",
    "    # Bridge table for Messages and Mentions (many-to-many)\n",
    "    cursor.execute(\"\"\"\n",
    "    CREATE TABLE IF NOT EXISTS MessageMentions (\n",
    "        message_ts VARCHAR(255) REFERENCES Messages(ts),\n",
    "        mentioned_user_id VARCHAR(255) REFERENCES Users(user_id),\n",
    "        PRIMARY KEY (message_ts, mentioned_user_id)\n",
    "    )\n",
    "    \"\"\")\n",
    "\n",
    "    # Bridge table for Reactions and Users (many-to-many)\n",
    "    cursor.execute(\"\"\"\n",
    "    CREATE TABLE IF NOT EXISTS ReactionUsers (\n",
    "        reaction_id INT REFERENCES Reactions(reaction_id),\n",
    "        user_id VARCHAR(255) REFERENCES Users(user_id),\n",
    "        PRIMARY KEY (reaction_id, user_id)\n",
    "    )\n",
    "    \"\"\")\n",
    "\n",
    "# Close the connection\n",
    "conn.close()\n",
    "\n",
    "# Check that tables were created\n",
    "engine = create_engine(f\"postgresql+psycopg2://{connection_params['user']}:{connection_params['password']}@{connection_params['host']}:{connection_params['port']}/{connection_params['database']}\")\n"
   ]
  },
  {
   "cell_type": "markdown",
   "metadata": {},
   "source": [
    "## Insert all users into the postgress database"
   ]
  },
  {
   "cell_type": "code",
   "execution_count": 262,
   "metadata": {},
   "outputs": [
    {
     "name": "stdout",
     "output_type": "stream",
     "text": [
      "total users:  71\n",
      "[{'user_id': 'U03T89ACUUW', 'real_name': 'Carlos Gross'}, {'user_id': 'U03TEPYRM2P', 'real_name': 'Garrett Bell'}, {'user_id': 'U03TNP8Q8CT', 'real_name': 'Bethany George'}, {'user_id': 'U03TT5KEYCF', 'real_name': 'Luis Ingram'}, {'user_id': 'U03TX2VN6H5', 'real_name': 'Nicole Kim'}, {'user_id': 'U03U1FNPEUX', 'real_name': 'Joshua Rhodes'}, {'user_id': 'U03U1FQKEMV', 'real_name': 'Steven Garcia'}, {'user_id': 'U03U1GHT39V', 'real_name': 'Joseph Diaz'}, {'user_id': 'U03U1HAG9TR', 'real_name': 'Robert Carter'}, {'user_id': 'U03U1J51VFZ', 'real_name': 'Cheryl Hudson'}]\n"
     ]
    }
   ],
   "source": [
    "\n",
    "all_users = helper.get_all_users()\n",
    "print(\"total users: \", len(all_users))\n",
    "print(all_users[:10])"
   ]
  },
  {
   "cell_type": "code",
   "execution_count": 263,
   "metadata": {},
   "outputs": [],
   "source": [
    "conn = psycopg2.connect(**connection_params)\n",
    "conn.autocommit = True  # Enable autocommit to execute DDL statements\n",
    "\n",
    "with conn.cursor() as cursor:\n",
    "    for user in all_users:\n",
    "        cursor.execute(\"\"\"\n",
    "        INSERT INTO Users (user_id, real_name)\n",
    "        VALUES (%s, %s)\n",
    "        ON CONFLICT (user_id) DO NOTHING\n",
    "        \"\"\", (user['user_id'], user['real_name']))\n",
    "\n",
    "# Close the connection\n",
    "conn.close()"
   ]
  },
  {
   "cell_type": "code",
   "execution_count": 264,
   "metadata": {},
   "outputs": [
    {
     "name": "stdout",
     "output_type": "stream",
     "text": [
      "Number of rows in Users table: 71\n",
      "First 5 persons:\n",
      "('U03T89ACUUW', 'Carlos Gross')\n",
      "('U03TEPYRM2P', 'Garrett Bell')\n",
      "('U03TNP8Q8CT', 'Bethany George')\n",
      "('U03TT5KEYCF', 'Luis Ingram')\n",
      "('U03TX2VN6H5', 'Nicole Kim')\n"
     ]
    }
   ],
   "source": [
    "# Create a connection to PostgreSQL\n",
    "conn = psycopg2.connect(**connection_params)\n",
    "\n",
    "# Create a cursor\n",
    "cursor = conn.cursor()\n",
    "\n",
    "# Get the number of rows in the Users table\n",
    "cursor.execute(\"SELECT COUNT(*) FROM Users;\")\n",
    "num_rows = cursor.fetchone()[0]\n",
    "print(f\"Number of rows in Users table: {num_rows}\")\n",
    "\n",
    "# Get the first 5 persons from the Users table\n",
    "cursor.execute(\"SELECT * FROM Users LIMIT 5;\")\n",
    "first_five_persons = cursor.fetchall()\n",
    "print(\"First 5 persons:\")\n",
    "for person in first_five_persons:\n",
    "    print(person)\n",
    "\n",
    "# Close the cursor and connection\n",
    "cursor.close()\n",
    "conn.close()"
   ]
  },
  {
   "cell_type": "markdown",
   "metadata": {},
   "source": [
    "## Insert all channels into the postgress database"
   ]
  },
  {
   "cell_type": "code",
   "execution_count": 265,
   "metadata": {},
   "outputs": [
    {
     "name": "stdout",
     "output_type": "stream",
     "text": [
      "total channels:  39\n",
      "[{'channel_id': 'C03T0APHX63', 'name': 'all-community-building'}, {'channel_id': 'C03T0AX4K6K', 'name': 'all-technical-support'}, {'channel_id': 'C03T89KDGA2', 'name': 'all-career-exercises'}, {'channel_id': 'C03T89PMJKG', 'name': 'all-resources'}, {'channel_id': 'C03TBUCU4UD', 'name': 'random'}, {'channel_id': 'C03TEQM38HH', 'name': 'all-ideas'}, {'channel_id': 'C03TEQQS9NF', 'name': 'all-week1'}, {'channel_id': 'C03U4J8J4LQ', 'name': 'all-broadcast'}, {'channel_id': 'C03UG4LHM8A', 'name': 'tenx-bot'}, {'channel_id': 'C03V3LK61QX', 'name': 'team-10'}]\n"
     ]
    }
   ],
   "source": [
    "all_channels = helper.get_all_channels()\n",
    "    \n",
    "print(\"total channels: \", len(all_channels))\n",
    "print(all_channels[:10])"
   ]
  },
  {
   "cell_type": "code",
   "execution_count": 266,
   "metadata": {},
   "outputs": [],
   "source": [
    "# Create a connection to PostgreSQL\n",
    "conn = psycopg2.connect(**connection_params)\n",
    "\n",
    "# Create a cursor\n",
    "cursor = conn.cursor()\n",
    "\n",
    "# Insert channels into the Channels table\n",
    "for channel in all_channels:\n",
    "    cursor.execute(\n",
    "        \"INSERT INTO Channels (channel_id, name) VALUES (%s, %s) ON CONFLICT (channel_id) DO NOTHING;\",\n",
    "        (channel['channel_id'], channel['name'])\n",
    "    )\n",
    "\n",
    "# Commit the changes\n",
    "conn.commit()\n",
    "\n",
    "# Close the cursor and connection\n",
    "cursor.close()\n",
    "conn.close()"
   ]
  },
  {
   "cell_type": "code",
   "execution_count": 267,
   "metadata": {},
   "outputs": [
    {
     "name": "stdout",
     "output_type": "stream",
     "text": [
      "Total number of channels: 39\n",
      "\n",
      "Top 5 channels:\n",
      "Channel ID: C03T0APHX63, Name: all-community-building\n",
      "Channel ID: C03T0AX4K6K, Name: all-technical-support\n",
      "Channel ID: C03T89KDGA2, Name: all-career-exercises\n",
      "Channel ID: C03T89PMJKG, Name: all-resources\n",
      "Channel ID: C03TBUCU4UD, Name: random\n"
     ]
    }
   ],
   "source": [
    "# Create a connection to PostgreSQL\n",
    "conn = psycopg2.connect(**connection_params)\n",
    "\n",
    "# Create a cursor\n",
    "cursor = conn.cursor()\n",
    "\n",
    "# Get the total number of channels\n",
    "cursor.execute(\"SELECT COUNT(*) FROM Channels;\")\n",
    "total_channels = cursor.fetchone()[0]\n",
    "print(f\"Total number of channels: {total_channels}\")\n",
    "\n",
    "# Print the top 5 channels\n",
    "cursor.execute(\"SELECT * FROM Channels LIMIT 5;\")\n",
    "top_channels = cursor.fetchall()\n",
    "print(\"\\nTop 5 channels:\")\n",
    "for channel in top_channels:\n",
    "    print(f\"Channel ID: {channel[0]}, Name: {channel[1]}\")\n",
    "\n",
    "# Close the cursor and connection\n",
    "cursor.close()\n",
    "conn.close()"
   ]
  },
  {
   "cell_type": "markdown",
   "metadata": {},
   "source": [
    "## Insert all messages into the postgress database"
   ]
  },
  {
   "cell_type": "code",
   "execution_count": 276,
   "metadata": {},
   "outputs": [
    {
     "name": "stdout",
     "output_type": "stream",
     "text": [
      "total messages:  18944\n",
      "[{'msg_id': '16f68d4e-0ceb-448a-b660-d5ef2eb05305', 'text': '*HOTSEAT ANNOUNCEMENT*', 'cleaned_text': 'hotseat announc', 'user_id': 'U03V1AM5TFA', 'mentions': [], 'reactions': [], 'replies': [], 'ts': '1662620680.298449', 'channel_id': 'C03T0APHX63'}, {'msg_id': '7c641275-2e52-4074-9894-744f049d5377', 'text': \"*<!here>* Good morning Community! We are very happy and excited to announce that today's hot seat will be hosting our very own <@U03U1GHT39V>  :wink::clap::skin-tone-2::confetti_ball:   Let's prep our burning questions for him!\", 'cleaned_text': 'good morn commun happi excit announc today hot seat host winkclapskintoneconfettibal let prep burn question', 'user_id': 'U03V1AM5TFA', 'mentions': ['U03U1GHT39V'], 'reactions': [{'name': 'fire', 'users': ['U03U9FWPNCE'], 'count': 1}], 'replies': [], 'ts': '1662620806.359419', 'channel_id': 'C03T0APHX63'}, {'msg_id': '245ecc4d-2c1b-4bee-b280-a1fd5ab7fee3', 'text': '*<!here> Community Building Session REMINDER!*:timer_clock:\\n*Please note that CBS is on in the next 10min*\\n• *Session:* Scavenger hunt\\n• *Time*: From 12:00 PM - 12:30 PM UTC\\n• *Platform: Gmeet &amp; Slack*\\n', 'cleaned_text': 'commun build session remindertimerclock plea note cb next min • session scaveng hunt • time pm pm utc • platform gmeet amp slack', 'user_id': 'U03V1AM5TFA', 'mentions': [], 'reactions': [{'name': 'heart_eyes', 'users': ['U03UG4Q7V42', 'U03UFV7HFNF', 'U03UG5VFN03'], 'count': 3}], 'replies': [], 'ts': '1662637801.047169', 'channel_id': 'C03T0APHX63'}, {'msg_id': 'fe80aff2-20f2-42ad-94a8-8b48ac63083f', 'text': 'Sweet music on Google meet now\\n:point_right: <http://meet.google.com/ysb-kjdn-hpp|meet.google.com/ysb-kjdn-hpp>\\n:sparkles:JOIN', 'cleaned_text': 'sweet music googl meet pointright meetgooglecomysbkjdnhpp sparklesjoin', 'user_id': 'U03V1AM5TFA', 'mentions': [], 'reactions': [], 'replies': [], 'ts': '1662638240.075389', 'channel_id': 'C03T0APHX63'}, {'msg_id': '2be29318-9c50-4b56-ae0b-ae8bcd4c92a3', 'text': 'Hellooo Helllo again my people the lovely  community:100:, are you guys here. …….*Its CBS time*, are we ready today. Show your excitement level, mine is :clinking_glasses::dart:', 'cleaned_text': 'hellooo helllo peopl love commun guy ……it cb time readi today show excit level mine clinkingglassesdart', 'user_id': 'U03V1AM5TFA', 'mentions': [], 'reactions': [], 'replies': [], 'ts': '1662638402.302519', 'channel_id': 'C03T0APHX63'}]\n"
     ]
    }
   ],
   "source": [
    "all_messages = helper.get_all_messages()\n",
    "    \n",
    "print(\"total messages: \", len(all_messages))\n",
    "print(all_messages[:5])"
   ]
  },
  {
   "cell_type": "code",
   "execution_count": 279,
   "metadata": {},
   "outputs": [],
   "source": [
    "# Create a connection to PostgreSQL\n",
    "conn = psycopg2.connect(**connection_params)\n",
    "conn.autocommit = True\n",
    "\n",
    "# Create a cursor\n",
    "cursor = conn.cursor()\n",
    "\n",
    "# Insert messages and related data\n",
    "for message in unique_json_list:\n",
    "    # Check if user_id exists in Users table\n",
    "    cursor.execute(\"\"\"\n",
    "        SELECT user_id FROM Users WHERE user_id = %s\n",
    "    \"\"\", (message['user_id'],))\n",
    "\n",
    "    user_exists = cursor.fetchone()\n",
    "\n",
    "    if user_exists:\n",
    "        # Insert into Messages table\n",
    "        cursor.execute(\"\"\"\n",
    "            INSERT INTO Messages (ts, msg_id, text, user_id, channel_id)\n",
    "            VALUES (%s, %s, %s, %s, %s) ON CONFLICT (ts) DO NOTHING\n",
    "        \"\"\", (\n",
    "            message['ts'], message['msg_id'], message['text'], message['user_id'],\n",
    "            message['channel_id']\n",
    "        ))\n",
    "\n",
    "        # Insert into MessageMentions table\n",
    "        for mention in message.get('mentions', []):\n",
    "            cursor.execute(\"\"\"\n",
    "                INSERT INTO MessageMentions (message_ts, mentioned_user_id)\n",
    "                VALUES (%s, %s) ON CONFLICT (message_ts, mentioned_user_id) DO NOTHING\n",
    "            \"\"\", (message['ts'], mention))\n",
    "\n",
    "        # Insert into Reactions table\n",
    "        for reaction in message.get('reactions', []):\n",
    "            cursor.execute(\"\"\"\n",
    "                INSERT INTO Reactions (message_ts, name, count)\n",
    "                VALUES (%s, %s, %s) \n",
    "            \"\"\", (message['ts'], reaction['name'], reaction['count']))\n",
    "\n",
    "            # Check if the reaction was inserted or already exists\n",
    "            cursor.execute(\"\"\"\n",
    "                SELECT reaction_id FROM Reactions WHERE message_ts = %s AND name = %s\n",
    "            \"\"\", (message['ts'], reaction['name']))\n",
    "\n",
    "            result = cursor.fetchone()\n",
    "            if result:\n",
    "                reaction_id = result[0]\n",
    "\n",
    "                # Insert into ReactionUsers table\n",
    "                for user in reaction.get('users', []):\n",
    "                    cursor.execute(\"\"\"\n",
    "                        INSERT INTO ReactionUsers (reaction_id, user_id)\n",
    "                        VALUES (%s, %s) ON CONFLICT (reaction_id, user_id) DO NOTHING\n",
    "                    \"\"\", (reaction_id, user))\n",
    "\n",
    "        # Insert into Replies table\n",
    "        for reply in message.get('replies', []):\n",
    "            cursor.execute(\"\"\"\n",
    "                INSERT INTO Replies (message_ts, user_id, ts)\n",
    "                VALUES (%s, %s, %s)\n",
    "            \"\"\", (message['ts'], reply['user_id'], reply['ts']))\n",
    "\n",
    "# Close the cursor and connection\n",
    "cursor.close()\n",
    "conn.close()"
   ]
  },
  {
   "cell_type": "code",
   "execution_count": 280,
   "metadata": {},
   "outputs": [
    {
     "name": "stdout",
     "output_type": "stream",
     "text": [
      "Total number of messages: 18938\n",
      "\n",
      "First 5 messages:\n",
      "('1662620680.298449', '16f68d4e-0ceb-448a-b660-d5ef2eb05305', '*HOTSEAT ANNOUNCEMENT*', 'U03V1AM5TFA', 'C03T0APHX63', None, None, None)\n",
      "('1662620806.359419', '7c641275-2e52-4074-9894-744f049d5377', \"*<!here>* Good morning Community! We are very happy and excited to announce that today's hot seat will be hosting our very own <@U03U1GHT39V>  :wink::clap::skin-tone-2::confetti_ball:   Let's prep our burning questions for him!\", 'U03V1AM5TFA', 'C03T0APHX63', None, None, None)\n",
      "('1662637801.047169', '245ecc4d-2c1b-4bee-b280-a1fd5ab7fee3', '*<!here> Community Building Session REMINDER!*:timer_clock:\\n*Please note that CBS is on in the next 10min*\\n• *Session:* Scavenger hunt\\n• *Time*: From 12:00 PM - 12:30 PM UTC\\n• *Platform: Gmeet &amp; Slack*\\n', 'U03V1AM5TFA', 'C03T0APHX63', None, None, None)\n",
      "('1662638240.075389', 'fe80aff2-20f2-42ad-94a8-8b48ac63083f', 'Sweet music on Google meet now\\n:point_right: <http://meet.google.com/ysb-kjdn-hpp|meet.google.com/ysb-kjdn-hpp>\\n:sparkles:JOIN', 'U03V1AM5TFA', 'C03T0APHX63', None, None, None)\n",
      "('1662638402.302519', '2be29318-9c50-4b56-ae0b-ae8bcd4c92a3', 'Hellooo Helllo again my people the lovely  community:100:, are you guys here. …….*Its CBS time*, are we ready today. Show your excitement level, mine is :clinking_glasses::dart:', 'U03V1AM5TFA', 'C03T0APHX63', None, None, None)\n"
     ]
    }
   ],
   "source": [
    "# Create a connection to PostgreSQL\n",
    "conn = psycopg2.connect(**connection_params)\n",
    "conn.autocommit = True\n",
    "\n",
    "# Create a cursor\n",
    "cursor = conn.cursor()\n",
    "\n",
    "# Count the number of messages\n",
    "cursor.execute(\"SELECT COUNT(*) FROM Messages\")\n",
    "message_count = cursor.fetchone()[0]\n",
    "print(f\"Total number of messages: {message_count}\")\n",
    "\n",
    "# Retrieve the first 5 messages\n",
    "cursor.execute(\"SELECT * FROM Messages LIMIT 5\")\n",
    "first_5_messages = cursor.fetchall()\n",
    "\n",
    "# Display the first 5 messages\n",
    "print(\"\\nFirst 5 messages:\")\n",
    "for message in first_5_messages:\n",
    "    print(message)\n",
    "\n",
    "# Close the cursor and connection\n",
    "cursor.close()\n",
    "conn.close()"
   ]
  }
 ],
 "metadata": {
  "kernelspec": {
   "display_name": "tenx_week0",
   "language": "python",
   "name": "python3"
  },
  "language_info": {
   "codemirror_mode": {
    "name": "ipython",
    "version": 3
   },
   "file_extension": ".py",
   "mimetype": "text/x-python",
   "name": "python",
   "nbconvert_exporter": "python",
   "pygments_lexer": "ipython3",
   "version": "3.12.0"
  }
 },
 "nbformat": 4,
 "nbformat_minor": 2
}
