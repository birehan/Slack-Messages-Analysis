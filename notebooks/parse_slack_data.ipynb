{
 "cells": [
  {
   "cell_type": "code",
   "execution_count": 127,
   "metadata": {},
   "outputs": [],
   "source": [
    "%reload_ext autoreload\n",
    "%autoreload 2"
   ]
  },
  {
   "cell_type": "code",
   "execution_count": 128,
   "metadata": {},
   "outputs": [],
   "source": [
    "import os, sys\n",
    "import re\n",
    "import json\n",
    "import glob\n",
    "import datetime\n",
    "from collections import Counter\n",
    "\n",
    "import pandas as pd\n",
    "from matplotlib import pyplot as plt\n",
    "import seaborn as sns\n",
    "\n",
    "from nltk.corpus import stopwords\n",
    "# from wordcloud import WordCloud"
   ]
  },
  {
   "cell_type": "code",
   "execution_count": 129,
   "metadata": {},
   "outputs": [],
   "source": [
    "# Add parent directory to path to import modules from src\n",
    "rpath = os.path.abspath('..')\n",
    "if rpath not in sys.path:\n",
    "    sys.path.insert(0, rpath)\n",
    "\n",
    "from src.loader import SlackDataLoader\n",
    "import src.utils as utils"
   ]
  },
  {
   "cell_type": "markdown",
   "metadata": {},
   "source": [
    "## Extract all the channesl in the slack"
   ]
  },
  {
   "cell_type": "markdown",
   "metadata": {},
   "source": [
    "### Columns we can get from a slack message<br>\n",
    "\n",
    "message_type, message_content, sender_id, time_sent, message_distribution, time_thread_start, reply_count, reply_user_count, time_thread_end, reply_users"
   ]
  },
  {
   "cell_type": "markdown",
   "metadata": {},
   "source": [
    "From a single slack message, we can get <br>\n",
    "\n",
    "1. The message<br>\n",
    "2. Type (message, file, link, etc)<br>\n",
    "3. The sender_id (assigned by slack)<br>\n",
    "4. The time the message was sent<br>\n",
    "5. The team (i don't know what that is now)<br>\n",
    "6. The type of the message (broadcast message, inhouse, just messgae)<br>\n",
    "7. The thread the message generated (from here we can go):<br>\n",
    "    7.1 Text/content of the message<br>\n",
    "    7.2 The thread time of the message<br>\n",
    "    7.3 The thread count (reply count)<br>\n",
    "    7.4 The number of user that reply the message (count of users that participated in the thread)<br>\n",
    "    7.5 The time the last thread message was sent <br>\n",
    "    7.6 The users that participated in the thread (their ids are stored as well)<br>"
   ]
  },
  {
   "cell_type": "code",
   "execution_count": 130,
   "metadata": {},
   "outputs": [],
   "source": [
    "def get_top_20_user(data, channel='Random'):\n",
    "    \"\"\"get user with the highest number of message sent to any channel\"\"\"\n",
    "\n",
    "    data['sender_name'].value_counts()[:20].plot.bar(figsize=(15, 7.5))\n",
    "    plt.title(f'Top 20 Message Senders in #{channel} channels', size=15, fontweight='bold')\n",
    "    plt.xlabel(\"Sender Name\", size=18); plt.ylabel(\"Frequency\", size=14);\n",
    "    plt.xticks(size=12); plt.yticks(size=12);\n",
    "    plt.show()\n",
    "\n",
    "    data['sender_name'].value_counts()[-10:].plot.bar(figsize=(15, 7.5))\n",
    "    plt.title(f'Bottom 10 Message Senders in #{channel} channels', size=15, fontweight='bold')\n",
    "    plt.xlabel(\"Sender Name\", size=18); plt.ylabel(\"Frequency\", size=14);\n",
    "    plt.xticks(size=12); plt.yticks(size=12);\n",
    "    plt.show()\n",
    "\n",
    "def draw_avg_reply_count(data, channel='Random'):\n",
    "    \"\"\"who commands many reply?\"\"\"\n",
    "\n",
    "    data.groupby('sender_name')['reply_count'].mean().sort_values(ascending=False)[:20]\\\n",
    "        .plot(kind='bar', figsize=(15,7.5));\n",
    "    plt.title(f'Average Number of reply count per Sender in #{channel}', size=20, fontweight='bold')\n",
    "    plt.xlabel(\"Sender Name\", size=18); plt.ylabel(\"Frequency\", size=18);\n",
    "    plt.xticks(size=14); plt.yticks(size=14);\n",
    "    plt.show()\n",
    "\n",
    "def draw_avg_reply_users_count(data, channel='Random'):\n",
    "    \"\"\"who commands many user reply?\"\"\"\n",
    "\n",
    "    data.groupby('sender_name')['reply_users_count'].mean().sort_values(ascending=False)[:20].plot(kind='bar',\n",
    "     figsize=(15,7.5));\n",
    "    plt.title(f'Average Number of reply user count per Sender in #{channel}', size=20, fontweight='bold')\n",
    "    plt.xlabel(\"Sender Name\", size=18); plt.ylabel(\"Frequency\", size=18);\n",
    "    plt.xticks(size=14); plt.yticks(size=14);\n",
    "    plt.show()\n",
    "\n",
    "def draw_wordcloud(msg_content, week):    \n",
    "    # word cloud visualization\n",
    "    allWords = ' '.join([twts for twts in msg_content])\n",
    "    wordCloud = WordCloud(background_color='#975429', width=500, height=300, random_state=21, max_words=500, mode='RGBA',\n",
    "                            max_font_size=140, stopwords=stopwords.words('english')).generate(allWords)\n",
    "    plt.figure(figsize=(15, 7.5))\n",
    "    plt.imshow(wordCloud, interpolation=\"bilinear\")\n",
    "    plt.axis('off')\n",
    "    plt.tight_layout()\n",
    "    plt.title(f'WordCloud for {week}', size=30)\n",
    "    plt.show()\n",
    "\n",
    "def draw_user_reaction(data, channel='General'):\n",
    "    data.groupby('sender_name')[['reply_count', 'reply_users_count']].sum()\\\n",
    "        .sort_values(by='reply_count',ascending=False)[:10].plot(kind='bar', figsize=(15, 7.5))\n",
    "    plt.title(f'User with the most reaction in #{channel}', size=25);\n",
    "    plt.xlabel(\"Sender Name\", size=18); plt.ylabel(\"Frequency\", size=18);\n",
    "    plt.xticks(size=14); plt.yticks(size=14);\n",
    "    plt.show()"
   ]
  },
  {
   "cell_type": "code",
   "execution_count": 131,
   "metadata": {},
   "outputs": [],
   "source": [
    "from collections import defaultdict\n",
    "\n",
    "\n",
    "data_loader = SlackDataLoader(\"../data\")\n",
    "all_channels = data_loader.get_channels()\n",
    "\n",
    "reactions = data_loader.parse_slack_reaction(\"../data/all-week1\", \"all-week1\")\n",
    "# print(reactions.head())\n",
    "users_replay_count = {}\n",
    "\n",
    "for channel in all_channels:\n",
    "    slack_parsed, channel_user_replay_count = data_loader.slack_parser(f\"../data/{channel[\"name\"]}\")\n",
    "    for key, value in channel_user_replay_count.items():\n",
    "        users_replay_count[key] = users_replay_count.get(key, 0) + value\n"
   ]
  },
  {
   "cell_type": "markdown",
   "metadata": {},
   "source": [
    "## Insight Extraction\n",
    "\n",
    "Below are some useful questions to answer. Feel free to explore to answer other interesting questions that may be of help to get insight about student's behaviour, need, and future performance "
   ]
  },
  {
   "cell_type": "markdown",
   "metadata": {},
   "source": [
    "### Top 10 and bottom 10 users by reply count"
   ]
  },
  {
   "cell_type": "code",
   "execution_count": 143,
   "metadata": {},
   "outputs": [
    {
     "name": "stdout",
     "output_type": "stream",
     "text": [
      "Top 10 users by replay count: \n",
      "1. username: Travis, with replay count: 191\n",
      "2. username: Brenda, with replay count: 141\n",
      "3. username: Vanessa, with replay count: 138\n",
      "4. username: Amy, with replay count: 133\n",
      "5. username: Cristian, with replay count: 126\n",
      "6. username: Phillip, with replay count: 112\n",
      "7. username: April, with replay count: 110\n",
      "8. username: Brady, with replay count: 97\n",
      "9. username: Judith, with replay count: 97\n",
      "10. username: Joshua, with replay count: 81\n",
      "\n",
      "Bottom 10 users by replay count: \n",
      "1. username: Leah, with replay count: 1\n",
      "2. username: Randy, with replay count: 1\n",
      "3. username: David, with replay count: 1\n",
      "4. username: Patrick, with replay count: 2\n",
      "5. username: Melissa, with replay count: 3\n",
      "6. username: Patricia, with replay count: 3\n",
      "7. username: Vernon, with replay count: 4\n",
      "8. username: Steven, with replay count: 7\n",
      "9. username: Samantha, with replay count: 7\n",
      "10. username: Allison, with replay count: 7\n"
     ]
    }
   ],
   "source": [
    "# which user has the highest number of reply counts?\n",
    "userNamesById, userIdsByName = data_loader.get_user_map()\n",
    "sorted_users_replay_count = list(sorted(users_replay_count.items(), key=lambda x:x[1], reverse=True))\n",
    "print(\"Top 10 users by replay count: \")\n",
    "for i in range(10):\n",
    "    print(f\"{1+i}. username: {userNamesById[sorted_users_replay_count[i][0]]}, with replay count: {sorted_users_replay_count[i][1]}\")\n",
    "\n",
    "print()\n",
    "\n",
    "print(\"Bottom 10 users by replay count: \")\n",
    "index = 1\n",
    "for i in range(len(sorted_users_replay_count)-1, len(sorted_users_replay_count)-11, -1):\n",
    "    print(f\"{index}. username: {userNamesById[sorted_users_replay_count[i][0]]}, with replay count: {sorted_users_replay_count[i][1]}\")\n",
    "    index += 1"
   ]
  },
  {
   "cell_type": "markdown",
   "metadata": {},
   "source": [
    "### Top 10 and bottom 10 users by Mention"
   ]
  },
  {
   "cell_type": "code",
   "execution_count": 144,
   "metadata": {},
   "outputs": [],
   "source": [
    "users_mention_count = {}\n",
    "\n",
    "for channel in all_channels:\n",
    "    channel_users_metions_count = utils.get_user_mentions_from_channel(f\"../data/{channel[\"name\"]}\")\n",
    "    for key, value in channel_users_metions_count.items():\n",
    "        users_mention_count[key] = users_mention_count.get(key, 0) + value\n"
   ]
  },
  {
   "cell_type": "code",
   "execution_count": 145,
   "metadata": {},
   "outputs": [
    {
     "name": "stdout",
     "output_type": "stream",
     "text": [
      "Top 10 users by mention count: \n",
      "1. username: Vanessa, with mention count: 198\n",
      "2. username: Garrett, with mention count: 186\n",
      "3. username: Amy, with mention count: 183\n",
      "4. username: Brittany, with mention count: 178\n",
      "5. username: April, with mention count: 173\n",
      "6. username: Travis, with mention count: 172\n",
      "7. username: Judith, with mention count: 139\n",
      "8. username: Phillip, with mention count: 136\n",
      "9. username: Brady, with mention count: 135\n",
      "10. username: Brian, with mention count: 123\n"
     ]
    }
   ],
   "source": [
    "\n",
    "sorted_users_mention_count = list(sorted(users_mention_count.items(), key=lambda x:x[1], reverse=True))\n",
    "print(\"Top 10 users by mention count: \")\n",
    "for i in range(10):\n",
    "    print(f\"{1+i}. username: {userNamesById[sorted_users_mention_count[i][0]]}, with mention count: {sorted_users_mention_count[i][1]}\")"
   ]
  },
  {
   "cell_type": "code",
   "execution_count": 146,
   "metadata": {},
   "outputs": [
    {
     "name": "stdout",
     "output_type": "stream",
     "text": [
      "Bottom 10 users by mention count: \n",
      "1. username: Steven, with mention count: 3\n",
      "2. username: Patricia, with mention count: 4\n",
      "3. username: Bethany, with mention count: 5\n",
      "4. username: Patrick, with mention count: 5\n",
      "5. username: Carol, with mention count: 5\n",
      "6. username: Randy, with mention count: 6\n",
      "7. username: Vernon, with mention count: 6\n",
      "8. username: Leah, with mention count: 8\n",
      "9. username: Melissa, with mention count: 10\n",
      "10. username: Dustin, with mention count: 13\n"
     ]
    }
   ],
   "source": [
    "print(\"Bottom 10 users by mention count: \")\n",
    "index = 1\n",
    "for i in range(len(sorted_users_mention_count)-1, len(sorted_users_mention_count)-11, -1):\n",
    "    print(f\"{index}. username: {userNamesById[sorted_users_mention_count[i][0]]}, with mention count: {sorted_users_mention_count[i][1]}\")\n",
    "    index += 1"
   ]
  },
  {
   "cell_type": "markdown",
   "metadata": {},
   "source": [
    "### Top 10 and bottom 10 users by Message count"
   ]
  },
  {
   "cell_type": "code",
   "execution_count": 147,
   "metadata": {},
   "outputs": [],
   "source": [
    "users_messages_count = {}\n",
    "for channel in all_channels:\n",
    "    channel_users_messages_count = utils.get_user_mentions_from_channel(f\"../data/{channel[\"name\"]}\")\n",
    "    for key, value in channel_users_messages_count.items():\n",
    "        users_messages_count[key] = users_messages_count.get(key, 0) + value\n"
   ]
  },
  {
   "cell_type": "code",
   "execution_count": 148,
   "metadata": {},
   "outputs": [
    {
     "name": "stdout",
     "output_type": "stream",
     "text": [
      "Top 10 users by messages count: \n",
      "1. username: Vanessa, with message count: 198\n",
      "2. username: Garrett, with message count: 186\n",
      "3. username: Amy, with message count: 183\n",
      "4. username: Brittany, with message count: 178\n",
      "5. username: April, with message count: 173\n",
      "6. username: Travis, with message count: 172\n",
      "7. username: Judith, with message count: 139\n",
      "8. username: Phillip, with message count: 136\n",
      "9. username: Brady, with message count: 135\n",
      "10. username: Brian, with message count: 123\n"
     ]
    }
   ],
   "source": [
    "\n",
    "sorted_users_messages_count = list(sorted(users_messages_count.items(), key=lambda x:x[1], reverse=True))\n",
    "print(\"Top 10 users by messages count: \")\n",
    "for i in range(10):\n",
    "    print(f\"{1+i}. username: {userNamesById[sorted_users_messages_count[i][0]]}, with message count: {sorted_users_messages_count[i][1]}\")"
   ]
  },
  {
   "cell_type": "code",
   "execution_count": 155,
   "metadata": {},
   "outputs": [
    {
     "name": "stdout",
     "output_type": "stream",
     "text": [
      "Bottom 10 users by messages count: \n",
      "1. username: Steven, with message count: 3\n",
      "2. username: Patricia, with message count: 4\n",
      "3. username: Bethany, with message count: 5\n",
      "4. username: Patrick, with message count: 5\n",
      "5. username: Carol, with message count: 5\n",
      "6. username: Randy, with message count: 6\n",
      "7. username: Vernon, with message count: 6\n",
      "8. username: Leah, with message count: 8\n",
      "9. username: Melissa, with message count: 10\n",
      "10. username: Dustin, with message count: 13\n"
     ]
    }
   ],
   "source": [
    "print(\"Bottom 10 users by messages count: \")\n",
    "index = 1\n",
    "for i in range(len(sorted_users_mention_count)-1, len(sorted_users_mention_count)-11, -1):\n",
    "    print(f\"{index}. username: {userNamesById[sorted_users_mention_count[i][0]]}, with message count: {sorted_users_mention_count[i][1]}\")\n",
    "    index += 1"
   ]
  },
  {
   "cell_type": "markdown",
   "metadata": {},
   "source": [
    "### Top 10 and bottom 10 users by Reaction count"
   ]
  },
  {
   "cell_type": "code",
   "execution_count": 153,
   "metadata": {},
   "outputs": [
    {
     "name": "stdout",
     "output_type": "stream",
     "text": [
      "{'U03U1GHT39V': 50, 'U03V1AM5TFA': 198, 'U03U9FWPNCE': 51, 'U03UG32J3PC': 173, 'U03UG1Z21JP': 50, 'U03V5Q9N516': 37, 'U03U1FNPEUX': 86, 'U03U1HAG9TR': 92, 'U03UG4Q7V42': 136, 'U03UAKATQ22': 16, 'U03UJGRN5E0': 61, 'U03UHB8CXDY': 22, 'U03V6HMRPGQ': 99, 'U03UG5VFN03': 18, 'U03UVHCV6KB': 172, 'U03UJKJGRAQ': 123, 'U03UD5B7C3X': 31, 'U03V785NLSU': 80, 'U03UJGP0C68': 139, 'U03T89ACUUW': 54, 'U03UL5LSTG9': 43, 'U03UFV7HFNF': 35, 'U03UD4FEDHB': 56, 'U03UH397319': 72, 'U03UKL27B0R': 178, 'U03UJH1EQQL': 24, 'U03UD68RQH3': 135, 'U03UP7V9Q57': 72, 'U03UFV7TUTV': 20, 'U03U9DB7REG': 94, 'U03UG1RTXAP': 5, 'U03U9EJR362': 34, 'U03UUR571A5': 183, 'U03UUMR26Q1': 22, 'U03U4GULU3Y': 46, 'U03TEPYRM2P': 186, 'U03V8LHPDME': 86, 'U03UJN29Y4C': 52, 'U03TT5KEYCF': 43, 'U03UYNR4TS4': 5, 'U03UDBUL7CL': 4, 'U03UUN8M4RX': 70, 'U03UUS0MZCZ': 47, 'U03UG0YHAUT': 26, 'U03UUMM7Y8H': 17, 'U03UUP56MDF': 54, 'U03UG0SFHGT': 34, 'U03U93GNNVB': 61, 'U03UJGFG2HJ': 6, 'U03UG569P7U': 10, 'U03U1J51VFZ': 22, 'U03TX2VN6H5': 30, 'U03V61VGQG0': 47, 'U03TNP8Q8CT': 5, 'U03U1FQKEMV': 3, 'U03UGB3T3MY': 13, 'U03UKGSDGSG': 8, 'U03UD63A8PP': 6}\n"
     ]
    }
   ],
   "source": [
    "users_reactions_count = {}\n",
    "for channel in all_channels:\n",
    "    channel_user_reactions_count = utils.get_user_mentions_from_channel(f\"../data/{channel[\"name\"]}\")\n",
    "    for key, value in channel_user_reactions_count.items():\n",
    "        users_reactions_count[key] = users_reactions_count.get(key, 0) + value\n",
    "\n",
    "\n",
    "print(users_reactions_count)"
   ]
  },
  {
   "cell_type": "code",
   "execution_count": 154,
   "metadata": {},
   "outputs": [
    {
     "name": "stdout",
     "output_type": "stream",
     "text": [
      "Top 10 users by reactions count: \n",
      "1. username: Vanessa, with reaction count: 198\n",
      "2. username: Garrett, with reaction count: 186\n",
      "3. username: Amy, with reaction count: 183\n",
      "4. username: Brittany, with reaction count: 178\n",
      "5. username: April, with reaction count: 173\n",
      "6. username: Travis, with reaction count: 172\n",
      "7. username: Judith, with reaction count: 139\n",
      "8. username: Phillip, with reaction count: 136\n",
      "9. username: Brady, with reaction count: 135\n",
      "10. username: Brian, with reaction count: 123\n"
     ]
    }
   ],
   "source": [
    "\n",
    "sorted_users_reactions_count = list(sorted(users_reactions_count.items(), key=lambda x:x[1], reverse=True))\n",
    "print(\"Top 10 users by reactions count: \")\n",
    "for i in range(10):\n",
    "    print(f\"{1+i}. username: {userNamesById[sorted_users_reactions_count[i][0]]}, with reaction count: {sorted_users_reactions_count[i][1]}\")"
   ]
  },
  {
   "cell_type": "code",
   "execution_count": 156,
   "metadata": {},
   "outputs": [
    {
     "name": "stdout",
     "output_type": "stream",
     "text": [
      "Bottom 10 users by reactions count: \n",
      "1. username: Steven, with reaction count: 3\n",
      "2. username: Patricia, with reaction count: 4\n",
      "3. username: Bethany, with reaction count: 5\n",
      "4. username: Patrick, with reaction count: 5\n",
      "5. username: Carol, with reaction count: 5\n",
      "6. username: Randy, with reaction count: 6\n",
      "7. username: Vernon, with reaction count: 6\n",
      "8. username: Leah, with reaction count: 8\n",
      "9. username: Melissa, with reaction count: 10\n",
      "10. username: Dustin, with reaction count: 13\n"
     ]
    }
   ],
   "source": [
    "print(\"Bottom 10 users by reactions count: \")\n",
    "index = 1\n",
    "for i in range(len(sorted_users_reactions_count)-1, len(sorted_users_reactions_count)-11, -1):\n",
    "    print(f\"{index}. username: {userNamesById[sorted_users_reactions_count[i][0]]}, with reaction count: {sorted_users_reactions_count[i][1]}\")\n",
    "    index += 1"
   ]
  },
  {
   "cell_type": "markdown",
   "metadata": {},
   "source": [
    "### Top 10 message by reply count"
   ]
  },
  {
   "cell_type": "code",
   "execution_count": 172,
   "metadata": {},
   "outputs": [
    {
     "name": "stdout",
     "output_type": "stream",
     "text": [
      "Top 10 messages by reply count\n",
      "                                             msg_content  reply_count\n",
      "7215           <@U03V1AM5TFA> how many crushes you have?           75\n",
      "6460   First Impression: People think I am older than...           63\n",
      "15234  1. How do I find my jupyter notebook file in m...           61\n",
      "4454   How many here follow football so much? I think...           57\n",
      "10061                    Ethiopian New year Loading ....           54\n",
      "11383  Hello\\n1. <@U03UVHCV6KB>\\n2. <@U03UG5VFN03>\\n3...           45\n",
      "16512  <@U03UUR571A5> Solutions to funding account an...           44\n",
      "10529  We had a plan to meet today 2:00 EAT at Friend...           36\n",
      "11538  *<!here> REMINDER*:timer_clock:\\n\\n*Please not...           33\n",
      "2375   the debate was great. We <@U03U1J51VFZ>, <@U03...           31\n"
     ]
    }
   ],
   "source": [
    "list_of_dfs = []\n",
    "for channel in all_channels:\n",
    "    df, _ = data_loader.slack_parser(f\"../data/{channel[\"name\"]}\")\n",
    "    list_of_dfs.append(df)\n",
    "    \n",
    "combined_df = pd.concat(list_of_dfs, ignore_index=True)\n",
    "\n",
    "# Get the top 10 messages with the highest reply_count\n",
    "top_10_messages = combined_df.nlargest(10, 'reply_count')\n",
    "print(\"Top 10 messages by reply count\")\n",
    "print(top_10_messages[['msg_content', 'reply_count']])\n"
   ]
  },
  {
   "cell_type": "markdown",
   "metadata": {},
   "source": [
    "### Top 10 message by Reaction count"
   ]
  },
  {
   "cell_type": "code",
   "execution_count": 184,
   "metadata": {},
   "outputs": [
    {
     "name": "stdout",
     "output_type": "stream",
     "text": [
      "                                                message  reaction_count\n",
      "4693  Good morning winners, welcome to week 9 of wee...              17\n",
      "395                                                                  16\n",
      "1499  My reactions when am not finished the task bef...              16\n",
      "4075  Little known fact - all 10 Academy technical t...              16\n",
      "301   *Here are some other stories from people that ...              15\n",
      "1881  *Guys <!here>.... Make sure to come back from ...              15\n",
      "4488  Welcome to week6 everyone. By Friday, we’ll be...              15\n",
      "1012  1- let me open my VPN, where do you want me to...              14\n",
      "3358  <!channel>\\nThere will be no careers exercise ...              14\n",
      "795           meat that is even more raw <@U03UUR571A5>              13\n"
     ]
    }
   ],
   "source": [
    "list_of_dfs = []\n",
    "for channel in all_channels:\n",
    "    df = data_loader.parse_slack_reaction(f\"../data/{channel[\"name\"]}\", channel[\"name\"])\n",
    "    list_of_dfs.append(df)\n",
    "    \n",
    "\n",
    "combined_df = pd.concat(list_of_dfs, ignore_index=True)\n",
    "\n",
    "combined_df['reaction_count'] = pd.to_numeric(combined_df['reaction_count'], errors='coerce')\n",
    "\n",
    "# Drop rows with NaN in 'reaction_count'\n",
    "df_reaction_cleaned = combined_df.dropna(subset=['reaction_count'])\n",
    "\n",
    "# Get the top 10 messages with the highest numeric 'reaction_count'\n",
    "top_10_messages_with_highest_reaction_count = df_reaction_cleaned.nlargest(10, 'reaction_count')\n",
    "\n",
    "# Print the result\n",
    "print(top_10_messages_with_highest_reaction_count[['message', 'reaction_count']])\n",
    "\n"
   ]
  },
  {
   "cell_type": "markdown",
   "metadata": {},
   "source": [
    "### Top 10 message by Mention count"
   ]
  },
  {
   "cell_type": "code",
   "execution_count": 183,
   "metadata": {},
   "outputs": [],
   "source": [
    "# list_of_dfs = []\n",
    "# for channel in all_channels:\n",
    "#     df = data_loader.parse_slack_reaction(f\"../data/{channel[\"name\"]}\", channel[\"name\"])\n",
    "#     list_of_dfs.append(df)\n",
    "count = utils.get_message_mentions_count_from_channel(f\"../data/all-week1\")"
   ]
  },
  {
   "cell_type": "markdown",
   "metadata": {},
   "source": [
    "### Messages Count Of Channel Vs Sum of replies and reactions"
   ]
  },
  {
   "cell_type": "code",
   "execution_count": 188,
   "metadata": {},
   "outputs": [],
   "source": [
    "list_of_dfs = []\n",
    "x_axis_message_count = {}\n",
    "y_axis_reply_reaction_count = {}\n",
    "\n",
    "for channel in all_channels:\n",
    "    replay_df, _ = data_loader.slack_parser(f\"../data/{channel[\"name\"]}\")\n",
    "    reaction_df = data_loader.parse_slack_reaction(f\"../data/{channel[\"name\"]}\", channel[\"name\"])\n",
    "\n",
    "    list_of_dfs.append(df)\n",
    "\n",
    "    total_reply_count = replay_df['reply_count'].sum()\n",
    "    total_reaction_count = reaction_df['reaction_count'].sum()\n",
    "\n",
    "    x_axis_message_count[channel[\"name\"]] = len(replay_df)\n",
    "    y_axis_reply_reaction_count[channel[\"name\"]] = total_reply_count + total_reaction_count\n",
    "\n",
    "\n",
    "# print(x_axis_message_count, y_axis_reply_reaction_count)\n",
    "\n"
   ]
  },
  {
   "cell_type": "code",
   "execution_count": 193,
   "metadata": {},
   "outputs": [
    {
     "data": {
      "image/png": "[encoded data removed]",
      "text/plain": [
       "<Figure size 640x480 with 1 Axes>"
      ]
     },
     "metadata": {},
     "output_type": "display_data"
    }
   ],
   "source": [
    "channels = list(x_axis_message_count.keys())\n",
    "x_values = list(x_axis_message_count.values())\n",
    "y_values = list(y_axis_reply_reaction_count.values())\n",
    "\n",
    "# Scatter plot\n",
    "plt.scatter(x_values, y_values, c='blue', label='Channels')\n",
    "\n",
    "# Add labels and title\n",
    "plt.xlabel('Number of Messages')\n",
    "plt.ylabel('Sum of Replies and Reactions')\n",
    "plt.title('Scatter Plot of Messages, Replies, and Reactions by Channel')\n",
    "\n",
    "# Add channel labels\n",
    "for i, channel in enumerate(channels):\n",
    "    plt.annotate(channel, (x_values[i], y_values[i]))\n",
    "\n",
    "# Show legend\n",
    "plt.legend()\n",
    "\n",
    "# Show the plot\n",
    "plt.show()"
   ]
  },
  {
   "cell_type": "markdown",
   "metadata": {},
   "source": [
    "- all-community-building appear at the top right corner of the graph"
   ]
  },
  {
   "cell_type": "code",
   "execution_count": null,
   "metadata": {},
   "outputs": [],
   "source": [
    "# Visualize reply counts per user per channel"
   ]
  },
  {
   "cell_type": "code",
   "execution_count": null,
   "metadata": {},
   "outputs": [],
   "source": [
    "# what is the time range of the day that most messages are sent?\n"
   ]
  },
  {
   "cell_type": "code",
   "execution_count": 11,
   "metadata": {},
   "outputs": [],
   "source": [
    "# what kind of messages are replied faster than others?"
   ]
  },
  {
   "cell_type": "code",
   "execution_count": 15,
   "metadata": {},
   "outputs": [],
   "source": [
    "# Relationship between # of messages and # of reactions"
   ]
  },
  {
   "cell_type": "code",
   "execution_count": 16,
   "metadata": {},
   "outputs": [],
   "source": [
    "# Classify messages into different categories such as questions, answers, comments, etc."
   ]
  },
  {
   "cell_type": "code",
   "execution_count": 17,
   "metadata": {},
   "outputs": [],
   "source": [
    "# Which users got the most reactions?"
   ]
  },
  {
   "cell_type": "code",
   "execution_count": 33,
   "metadata": {},
   "outputs": [],
   "source": [
    "# Model topics mentioned in the channel"
   ]
  },
  {
   "cell_type": "code",
   "execution_count": null,
   "metadata": {},
   "outputs": [],
   "source": [
    "# What are the topics that got the most reactions?"
   ]
  },
  {
   "cell_type": "markdown",
   "metadata": {},
   "source": [
    "### Harder questions to look into"
   ]
  },
  {
   "cell_type": "code",
   "execution_count": null,
   "metadata": {},
   "outputs": [],
   "source": [
    "# Based on messages, reactions, references shared, and other relevant data such as classification of questions into techical question, comment, answer, aorder stu the python, statistics, and sql skill level of a user?"
   ]
  }
 ],
 "metadata": {
  "kernelspec": {
   "display_name": "Python 3 (ipykernel)",
   "language": "python",
   "name": "python3"
  },
  "language_info": {
   "codemirror_mode": {
    "name": "ipython",
    "version": 3
   },
   "file_extension": ".py",
   "mimetype": "text/x-python",
   "name": "python",
   "nbconvert_exporter": "python",
   "pygments_lexer": "ipython3",
   "version": "3.9.13"
  }
 },
 "nbformat": 4,
 "nbformat_minor": 4
}
